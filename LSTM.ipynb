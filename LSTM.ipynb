{
 "cells": [
  {
   "cell_type": "code",
   "execution_count": 3,
   "metadata": {},
   "outputs": [],
   "source": [
    "import numpy as np\n",
    "from keras.utils import np_utils\n",
    "from keras.models import Sequential\n",
    "from keras.layers import Dense\n",
    "from keras.layers.recurrent import SimpleRNN\n",
    "from keras.optimizers import Adam"
   ]
  },
  {
   "cell_type": "code",
   "execution_count": null,
   "metadata": {},
   "outputs": [],
   "source": [
    "def main():\n",
    "    input_file=\"D:\\\\企业估值论文\\price.csv\"\n",
    "    x_train, y_train = getData(input_file)\n",
    "    m = model()\n",
    "    fit(x_train, y_train,m)\n",
    "\n",
    "def getData(input_file):\n",
    "    f = open(input_file, \"rt\")\n",
    "    predata=[]\n",
    "    for line in f.readlines():\n",
    "        predata.append(eval(line.strip(\"\\n\")))\n",
    "    f.close()\n",
    "    data = []\n",
    "    for i in predata[::-1]:\n",
    "        data.append(i)\n",
    "    data = np.asarray(data)\n",
    "    data = data.reshape(1,len(data))\n",
    "    x_train = np.zeros((data.shape[1]-180,180))\n",
    "    y_train = np.zeros((data.shape[1]-180,1))\n",
    "    for i in range(data.shape[1]-180):\n",
    "        x_train[i]=data[0][i:i+180]\n",
    "        y_train[i]=data[0][i+180]\n",
    "    return x_train, y_train\n",
    "\n",
    "def model():\n",
    "    model = Sequential([\n",
    "    Dense(64, input_dim = 180, bias_initializer = \"one\", activation = \"linear\"),\n",
    "    Dense(1, input_dim = 64,bias_initializer = \"one\", activation = \"linear\")\n",
    "    ])\n",
    "    adam = Adam(lr = 0.5)\n",
    "    model.compile(\n",
    "        optimizer = adam,\n",
    "        loss = \"mse\",\n",
    "        metrics=[\"accuracy\"]\n",
    "    )\n",
    "    return model\n",
    "\n",
    "def fit(x_train, y_train,m):\n",
    "    m.fit(x_train, y_train,epochs = 100)\n",
    "\n",
    "main()"
   ]
  }
 ],
 "metadata": {
  "kernelspec": {
   "display_name": "keras",
   "language": "python",
   "name": "kr"
  },
  "language_info": {
   "codemirror_mode": {
    "name": "ipython",
    "version": 3
   },
   "file_extension": ".py",
   "mimetype": "text/x-python",
   "name": "python",
   "nbconvert_exporter": "python",
   "pygments_lexer": "ipython3",
   "version": "3.6.10"
  }
 },
 "nbformat": 4,
 "nbformat_minor": 2
}
